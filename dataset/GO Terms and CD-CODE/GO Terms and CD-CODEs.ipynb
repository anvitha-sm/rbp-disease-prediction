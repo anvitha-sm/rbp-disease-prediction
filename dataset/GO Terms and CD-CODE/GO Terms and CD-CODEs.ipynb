{
 "cells": [
  {
   "cell_type": "code",
   "execution_count": null,
   "id": "e1d55c22-093e-4f32-9bb4-4f6f63401619",
   "metadata": {},
   "outputs": [],
   "source": [
    "import numpy as np\n",
    "import pandas as pd\n",
    "import requests\n",
    "import io\n",
    "import ast"
   ]
  },
  {
   "cell_type": "code",
   "execution_count": null,
   "id": "a22858be-7e7c-4e9d-8063-ff162e897c20",
   "metadata": {},
   "outputs": [],
   "source": [
    "#replace with your CSV\n",
    "df = pd.read_csv(\"ZincFinger_Classical_RBD.csv\")"
   ]
  },
  {
   "cell_type": "code",
   "execution_count": null,
   "id": "3968ad75-2329-42b4-a575-2ba038423d0c",
   "metadata": {},
   "outputs": [],
   "source": [
    "def fetch_go_terms_with_ids(uniprot_id):\n",
    "    url = f\"https://rest.uniprot.org/uniprotkb/{uniprot_id}.json\"\n",
    "    response = requests.get(url)\n",
    "    if response.status_code != 200:\n",
    "        return {\"F\": {}, \"P\": {}, \"C\": {}}\n",
    "\n",
    "    data = response.json()\n",
    "    go_terms = {\"F\": {}, \"P\": {}, \"C\": {}}\n",
    "\n",
    "    for ref in data.get(\"uniProtKBCrossReferences\", []):\n",
    "        if ref.get(\"database\") == \"GO\":\n",
    "            go_id = ref.get(\"id\", \"\")\n",
    "            props = {p[\"key\"]: p[\"value\"] for p in ref.get(\"properties\", [])}\n",
    "            term = props.get(\"GoTerm\", \"\")\n",
    "            evidence = props.get(\"GoEvidenceType\", \"\")\n",
    "            if len(term) > 2 and term[1] == \":\":\n",
    "                aspect = term[0]  # F, P, or C\n",
    "                go_terms[aspect][term] = {\"GO_ID\": go_id, \"Evidence\": evidence}\n",
    "\n",
    "    return go_terms\n",
    "\n",
    "# 🔬 Example list of UniProt IDs\n",
    "uniprot_ids = [\"P47974\"]\n",
    "\n",
    "# 🧬 Build dataframe\n",
    "records = []\n",
    "for uid in uniprot_ids:\n",
    "    go = fetch_go_terms_with_ids(uid)\n",
    "    records.append({\n",
    "        \"UniProt_ID\": uid,\n",
    "        \"Molecular Function\": \"; \".join(go[\"F\"]),\n",
    "        \"Biological Process\": \"; \".join(go[\"P\"]),\n",
    "        \"Cellular Component\": \"; \".join(go[\"C\"])\n",
    "    })\n",
    "\n",
    "new_df = pd.DataFrame(records)\n",
    "print(new_df)\n"
   ]
  },
  {
   "cell_type": "code",
   "execution_count": null,
   "id": "214d2a0e-addf-44d8-b2c5-75368e2f9adf",
   "metadata": {},
   "outputs": [],
   "source": [
    "def fetch_go_terms_cleaned(uniprot_id):\n",
    "    url = f\"https://rest.uniprot.org/uniprotkb/{uniprot_id}.json\"\n",
    "    response = requests.get(url)\n",
    "    if response.status_code != 200:\n",
    "        return {\"F\": {}, \"P\": {}, \"C\": {}}\n",
    "\n",
    "    data = response.json()\n",
    "    go_terms = {\"F\": {}, \"P\": {}, \"C\": {}}\n",
    "\n",
    "    for ref in data.get(\"uniProtKBCrossReferences\", []):\n",
    "        if ref.get(\"database\") == \"GO\":\n",
    "            go_id = ref.get(\"id\", \"\")\n",
    "            props = {p[\"key\"]: p[\"value\"] for p in ref.get(\"properties\", [])}\n",
    "            raw_term = props.get(\"GoTerm\", \"\")\n",
    "            evidence = props.get(\"GoEvidenceType\", \"\")\n",
    "            if len(raw_term) > 2 and raw_term[1] == \":\":\n",
    "                aspect = raw_term[0]  # F, P, or C\n",
    "                label = raw_term[2:]  # Strip prefix\n",
    "                go_terms[aspect][label] = {\"GO_ID\": go_id, \"Evidence\": evidence}\n",
    "\n",
    "    return go_terms"
   ]
  },
  {
   "cell_type": "code",
   "execution_count": null,
   "id": "bb944538-9711-4c4f-be91-8eeead93e949",
   "metadata": {},
   "outputs": [],
   "source": [
    "uniprot_ids = [\"P47974\"]\n",
    "records = []\n",
    "for uid in uniprot_ids:\n",
    "    go = fetch_go_terms_cleaned(uid)\n",
    "    records.append({\n",
    "        \"UniProt_ID\": uid,\n",
    "        \"Molecular Function\": go[\"F\"],\n",
    "        \"Biological Process\": go[\"P\"],\n",
    "        \"Cellular Component\": go[\"C\"]\n",
    "    })\n",
    "\n",
    "results = pd.DataFrame(records)\n"
   ]
  },
  {
   "cell_type": "code",
   "execution_count": null,
   "id": "5a9d8556-6844-4bb3-b5ce-1dcfff99e563",
   "metadata": {},
   "outputs": [],
   "source": [
    "def enrich_with_go_terms(df):\n",
    "    records = []\n",
    "    for _, row in df.iterrows():\n",
    "        uid = row[\"uniprot_id\"]\n",
    "        go = fetch_go_terms_cleaned(uid)\n",
    "        records.append({\n",
    "            \"uniprot_id\": uid,\n",
    "            \"Molecular Function\": go[\"F\"],\n",
    "            \"Biological Process\": go[\"P\"],\n",
    "            \"Cellular Component\": go[\"C\"]\n",
    "        })\n",
    "    return pd.DataFrame(records)"
   ]
  },
  {
   "cell_type": "code",
   "execution_count": null,
   "id": "581cedc5-e5f1-449e-96b7-7eaf1b058aa4",
   "metadata": {},
   "outputs": [],
   "source": [
    "df_go = enrich_with_go_terms(df)"
   ]
  },
  {
   "cell_type": "code",
   "execution_count": null,
   "id": "c520618a-9649-4210-ae0c-07fb26433905",
   "metadata": {},
   "outputs": [],
   "source": [
    "df_go.to_csv(\"GO_Terms.csv\",index=False)"
   ]
  },
  {
   "cell_type": "code",
   "execution_count": null,
   "id": "9a8da17b-af75-4fe9-84b3-8c484be50456",
   "metadata": {},
   "outputs": [],
   "source": [
    "def fetch_cd_code_cleaned(uniprot_id):\n",
    "    url = f\"https://rest.uniprot.org/uniprotkb/{uniprot_id}.json\"\n",
    "    response = requests.get(url)\n",
    "    if response.status_code != 200:\n",
    "        return []\n",
    "\n",
    "    data = response.json()\n",
    "    cd_code_terms = []\n",
    "\n",
    "    for ref in data.get(\"uniProtKBCrossReferences\", []):\n",
    "        if ref.get(\"database\") == \"CD-CODE\":\n",
    "            cd_id = ref.get(\"id\", \"\")\n",
    "            props = {p[\"key\"]: p[\"value\"] for p in ref.get(\"properties\", [])}\n",
    "            entry_name = props.get(\"EntryName\", \"\")\n",
    "            if entry_name:\n",
    "                cd_code_terms.append({\n",
    "                    \"EntryName\": entry_name,\n",
    "                    \"CD-CODE ID\": cd_id\n",
    "                })\n",
    "\n",
    "    return cd_code_terms\n"
   ]
  },
  {
   "cell_type": "code",
   "execution_count": null,
   "id": "40c2e445-c05a-4dfb-b9ac-e414d1db944f",
   "metadata": {},
   "outputs": [],
   "source": [
    "def fetch_cd_code_for_dataframe(df, id_column=\"uniprot_id\"):\n",
    "    results = []\n",
    "\n",
    "    for uniprot_id in df[id_column]:\n",
    "        annotations = fetch_cd_code_cleaned(uniprot_id)\n",
    "        if annotations:\n",
    "            for entry in annotations:\n",
    "                results.append({\n",
    "                    \"UniProtID\": uniprot_id,\n",
    "                    \"EntryName\": entry[\"EntryName\"],\n",
    "                    \"CD-CODE ID\": entry[\"CD-CODE ID\"]\n",
    "                })\n",
    "        else:\n",
    "            results.append({\n",
    "                \"UniProtID\": uniprot_id,\n",
    "                \"EntryName\": None,\n",
    "                \"CD-CODE ID\": None\n",
    "            })\n",
    "\n",
    "    return pd.DataFrame(results)"
   ]
  },
  {
   "cell_type": "code",
   "execution_count": null,
   "id": "a5bf253f-45cd-48ce-b5cf-ef260f1e86f1",
   "metadata": {},
   "outputs": [],
   "source": [
    "cd_codes = fetch_cd_code_for_dataframe(df)"
   ]
  },
  {
   "cell_type": "code",
   "execution_count": null,
   "id": "85800f5a-9b00-43d5-8e5d-48162b26f519",
   "metadata": {},
   "outputs": [],
   "source": [
    "# Filter out rows where EntryName is None\n",
    "filtered_df = cd_codes[cd_codes[\"EntryName\"].notna()]\n",
    "\n",
    "# Count unique UniProt IDs in the filtered DataFrame\n",
    "unique_count = filtered_df[\"UniProtID\"].nunique()\n",
    "\n",
    "print(f\"Unique UniProt IDs with valid EntryName: {unique_count}\")"
   ]
  },
  {
   "cell_type": "code",
   "execution_count": null,
   "id": "3d666df1-df35-4dd6-97c7-9029e956a943",
   "metadata": {},
   "outputs": [],
   "source": [
    "cd_codes.to_csv(\"CD_Codes.csv\",index=False)"
   ]
  }
 ],
 "metadata": {
  "kernelspec": {
   "display_name": "Python [conda env:pymol_env]",
   "language": "python",
   "name": "conda-env-pymol_env-py"
  },
  "language_info": {
   "codemirror_mode": {
    "name": "ipython",
    "version": 3
   },
   "file_extension": ".py",
   "mimetype": "text/x-python",
   "name": "python",
   "nbconvert_exporter": "python",
   "pygments_lexer": "ipython3",
   "version": "3.9.7"
  }
 },
 "nbformat": 4,
 "nbformat_minor": 5
}
