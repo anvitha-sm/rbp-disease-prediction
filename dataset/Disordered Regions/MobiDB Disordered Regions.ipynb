{
 "cells": [
  {
   "cell_type": "code",
   "execution_count": 1,
   "id": "79467787-be9f-4257-ae6b-d01efa85f601",
   "metadata": {},
   "outputs": [
    {
     "name": "stderr",
     "output_type": "stream",
     "text": [
      "C:\\Users\\faris\\anaconda3\\Lib\\site-packages\\Bio\\pairwise2.py:278: BiopythonDeprecationWarning: Bio.pairwise2 has been deprecated, and we intend to remove it in a future release of Biopython. As an alternative, please consider using Bio.Align.PairwiseAligner as a replacement, and contact the Biopython developers if you still need the Bio.pairwise2 module.\n",
      "  warnings.warn(\n"
     ]
    }
   ],
   "source": [
    "import pandas as pd\n",
    "import matplotlib.pyplot as plt\n",
    "from sklearn import linear_model\n",
    "import numpy as np\n",
    "from scipy.stats import pearsonr\n",
    "#import image_analysis.plot_cells\n",
    "#from image_analysis.postprocess_data_analysis import *\n",
    "import seaborn as sns\n",
    "import datetime\n",
    "\n",
    "#!pip install nardini\n",
    "from localcider.sequenceParameters import SequenceParameters\n",
    "#from nardini.score_and_plot import calculate_zscore\n",
    "from Bio import SeqIO\n",
    "from io import StringIO\n",
    "#from nardini.constants import NUM_SCRAMBLED_SEQUENCES, TYPEALL, TYPEALL_9x9\n",
    "from scipy import stats\n",
    "from sklearn.cluster import KMeans\n",
    "from sklearn.decomposition import PCA\n",
    "import statsmodels.stats.multitest\n",
    "import sys\n",
    "#sys.path.append('/Users/kkappel/src/iupred2a')\n",
    "#import iupred2a_lib\n",
    "import matplotlib as mpl\n",
    "from scipy.stats import linregress\n",
    "from statsmodels.stats.multicomp import pairwise_tukeyhsd\n",
    "from sklearn import linear_model\n",
    "import random\n",
    "from matplotlib.colors import LinearSegmentedColormap\n",
    "from Bio.Align import PairwiseAligner\n",
    "from scipy.cluster.hierarchy import linkage, dendrogram\n",
    "from Bio.Align import PairwiseAligner\n",
    "from Bio import pairwise2\n",
    "from sklearn.decomposition import PCA\n",
    "from sklearn.metrics.pairwise import cosine_similarity"
   ]
  },
  {
   "cell_type": "code",
   "execution_count": 2,
   "id": "74d8f870-d181-424a-bc52-3fb14617c64c",
   "metadata": {},
   "outputs": [
    {
     "name": "stdout",
     "output_type": "stream",
     "text": [
      "C9JWL8\n",
      "MTPALTALLCLGLSLGPRTRMQAGPFPKPTLWAEPGSVISWGSPVTIWCQGSLEAQEYQLDKEGSPEPWDRNNPLEPKNKARFSIPSMTQHHAGRYRCHYYSSAGWSEPSDPLELVMTGFYNKPTLSALPSPVVASGGNMTLRCGSQKGYHHFVLMKE\n",
      "158\n",
      "472..631\n",
      "H0YJ05\n",
      "XEPVMRVTLGTAKYEHAFNSIVWRINRLPDKNSASGHPHCFFCHLELGSDREVPSRFANHVNVEFSMPTTSASKASVRSISVEDKTDVRKWVNYSAHYSYQVEIEQKKSLKPDFEGDEMENPKECGVQ\n",
      "128\n",
      "144..282\n",
      "A0A0A0MRP4\n",
      "MHGRAYLLLHRDFCDLKENNYKGITAKPVSEDMMEWEVEIEGLQNSVWQGLVFQLTIHFTSEYNYAPPVVKFITIPFHPNVDPHTGQPCIDFLDNPEKWNTNYTLSSILLALQVMLSNPVLENPVNLEAARILVKDESLYRTILRLFNRPLQMKDDSQELPKDPRKCIRPIKTTSFSDYYQTWSRIATSKATEYYRTPLLKVPNFIGQYYKWKKMDLQHQKEWNLKYSVIKCWLARKRMPHEVTHSMEEIKLCPTL\n",
      "256\n",
      "281..317\n",
      "G3V3A2\n",
      "MWTGGRRPGRLRRAASAADMEKLSALQEQKGELRKRLSYTTHKLEKLETEFDSTRHYLEIELRRAQEELEKVTEKLRRIQSNYMALQRINQELEDKLYRMGQHYEEEKRALSHEIVALNSHLLEAKVTIDKLSEDNELYRKDCNLAAQLLQCSQTYGRVHKVSELPSDF\n",
      "169\n",
      "518..612\n",
      "Q5JRP2\n",
      "MAARPLPVSPARALLLALAGALLAPCEARGVSLWNQGRADEVVSASVGSGDLWIPVKSFDSKNHPEVLNIRLQRESKELIINLERNEGLIASSFTETHYLQDGTDVSLARNYTGHCYYHGHVRGYSDSAVSLSTCSGLRGLIVFENESYVLEPMKSATNRYKLFPAKKLKSVRGSCGSHHNTPNLAAKNVFPPPSQTWARRHKRETLKATKYVELVIVADNREFQRQGKDLEKVKQRLIEIANHVDKFYRPLNIRIVLVGVEVWNDMDKCSVSQDPFT\n",
      "278\n",
      "819..859\n",
      "Q2M2W7\n",
      "MNRLYLTPDGFFFRVHMLALDSSSCNKPCPEFKPGSRYIVMGHIYHKRRQLPTALLQVLRGRLRPGDGLLRSSSSYVKRFNRKREGQIQGAIHTQCI\n",
      "97\n",
      "17..191\n"
     ]
    }
   ],
   "source": [
    "# get mobidb sequences:\n",
    "# these are all predicted disordered regions in the human proteome\n",
    "# generate this mobid file by running 'bash get_mobid_data.sh'\n",
    "\n",
    "mobidb_disordered_regions = []\n",
    "for line in open('mobidb_disorder_preds_and_seqs.tsv'):\n",
    "    if 'sequence' in line:\n",
    "        continue\n",
    "    accid = line.split('\\t')[0]\n",
    "    seq = line.split('\\t')[1]\n",
    "    regions = line.split('\\t')[3]\n",
    "    seq_len_listed = int(line.split('\\t')[-1])\n",
    "    if len( seq ) != seq_len_listed:\n",
    "        print( \"wrong length\", accid )\n",
    "    for subr in regions.split(','):\n",
    "        subr_start = int(subr.split('..')[0])\n",
    "        subr_end = int(subr.split('..')[1])\n",
    "        if (subr_end - subr_start) < 30: continue\n",
    "        subseq = seq[subr_start-1:subr_end]\n",
    "        if len( subseq ) != (subr_end - subr_start + 1):\n",
    "            print( accid )\n",
    "            print( seq )\n",
    "            print( seq_len_listed )\n",
    "            print( subr )\n",
    "            continue\n",
    "        mobidb_disordered_regions.append( subseq )"
   ]
  },
  {
   "cell_type": "code",
   "execution_count": 4,
   "id": "701e66f2-887e-41f5-9bdd-361d66cbda5f",
   "metadata": {},
   "outputs": [],
   "source": [
    "mobid_df = pd.read_csv( 'mobidb_disorder_preds_and_seqs.tsv', delimiter='\\t' )"
   ]
  },
  {
   "cell_type": "code",
   "execution_count": 12,
   "id": "3fed2ac9-fd37-4ace-a079-daa6b9073b3d",
   "metadata": {
    "scrolled": true
   },
   "outputs": [
    {
     "name": "stderr",
     "output_type": "stream",
     "text": [
      "C:\\Users\\faris\\AppData\\Local\\Temp\\ipykernel_2784\\2181719650.py:1: DtypeWarning: Columns (11,12,13,1134,1138,1146,1154,1158,1162,1166,1170,1174,1178,1182,1186,1190,1194,1206,1214,1218,1222,1226,1230,1234,1238,1242,1250,1254,1258,1262,1266,1270,1274,1278,1282,1286,1290,1294,1298,1302,1306,1310,1314,1318,1332,1336,1340,1348,1352,1356,1360,1364,1376,1380,1384,1392,1408,1412,1428) have mixed types. Specify dtype option on import or set low_memory=False.\n",
      "  df = pd.read_csv(\"ZincFinger_Classical_RBD.csv\")\n"
     ]
    }
   ],
   "source": [
    "# REPLACE WITH YOUR CSV\n",
    "df = pd.read_csv(\"ZincFinger_Classical_RBD.csv\")"
   ]
  },
  {
   "cell_type": "code",
   "execution_count": 13,
   "id": "6d6e860e-5a2f-472a-be68-cd05087bc14a",
   "metadata": {},
   "outputs": [],
   "source": [
    "cols_to_merge = [\"acc\", \"start..end\", \"content_fraction\", \"content_count\", \"length\"]"
   ]
  },
  {
   "cell_type": "code",
   "execution_count": null,
   "id": "f4764637-766f-4115-a88c-2ee0fe3b4012",
   "metadata": {},
   "outputs": [],
   "source": [
    "df = pd.merge(df, mobid_df[cols_to_merge], left_on = 'uniprot_id', right_on = 'acc', how = 'left')"
   ]
  },
  {
   "cell_type": "code",
   "execution_count": null,
   "id": "d8fc8f51-bdb1-49e5-9903-763e600f5f4d",
   "metadata": {},
   "outputs": [],
   "source": [
    "df.drop(\"acc\", axis=1, inplace=True)"
   ]
  },
  {
   "cell_type": "code",
   "execution_count": null,
   "id": "f1bfe79c-70b0-40b2-9607-1a6329d70be5",
   "metadata": {},
   "outputs": [],
   "source": [
    "num_disordered_regions = df[\"start..end\"].apply(lambda x: len(x.split(\"..\")) - 1 if isinstance(x,str) else 0)"
   ]
  },
  {
   "cell_type": "code",
   "execution_count": null,
   "id": "2a735804-e2b7-40cd-88e2-bda71b16be78",
   "metadata": {},
   "outputs": [],
   "source": [
    "df[\"number_disordered_regions\"] = num_disordered_regions"
   ]
  },
  {
   "cell_type": "code",
   "execution_count": null,
   "id": "292dc4b9-deef-446f-8598-bca35e5543c8",
   "metadata": {},
   "outputs": [],
   "source": [
    "def find_average_length(all_start_ends):\n",
    "    if not isinstance(all_start_ends, str):\n",
    "        return 0\n",
    "    seqs = all_start_ends.split(\",\")\n",
    "    total = 0\n",
    "    for seq in seqs:\n",
    "        start_end = seq.split(\"..\")\n",
    "        start_end_num = list(map(int, start_end))\n",
    "        diff = abs(start_end_num[1] - start_end_num[0])\n",
    "        total += diff\n",
    "    return total / len(seqs)"
   ]
  },
  {
   "cell_type": "code",
   "execution_count": null,
   "id": "a5851b1a-1bec-4e41-8bc8-7e4a97e4da27",
   "metadata": {},
   "outputs": [],
   "source": [
    "df[\"average_disordered_region_size\"] = df[\"start..end\"].apply(find_average_length)"
   ]
  }
 ],
 "metadata": {
  "kernelspec": {
   "display_name": "Python [conda env:base] *",
   "language": "python",
   "name": "conda-base-py"
  },
  "language_info": {
   "codemirror_mode": {
    "name": "ipython",
    "version": 3
   },
   "file_extension": ".py",
   "mimetype": "text/x-python",
   "name": "python",
   "nbconvert_exporter": "python",
   "pygments_lexer": "ipython3",
   "version": "3.13.5"
  }
 },
 "nbformat": 4,
 "nbformat_minor": 5
}
