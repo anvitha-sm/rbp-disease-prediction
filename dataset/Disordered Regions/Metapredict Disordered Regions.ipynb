{
 "cells": [
  {
   "cell_type": "code",
   "execution_count": 1,
   "id": "6e7272df-9528-42c9-8226-0e52cf281ec1",
   "metadata": {},
   "outputs": [],
   "source": [
    "import pandas as pd\n",
    "import numpy as np\n",
    "import metapredict as meta"
   ]
  },
  {
   "cell_type": "code",
   "execution_count": 3,
   "id": "939f39d9-91b7-49e4-920e-d7dbe253895b",
   "metadata": {},
   "outputs": [
    {
     "name": "stderr",
     "output_type": "stream",
     "text": [
      "C:\\Users\\faris\\AppData\\Local\\Temp\\ipykernel_31620\\4156281306.py:2: DtypeWarning: Columns (11,12,13,1134,1138,1146,1154,1158,1162,1166,1170,1174,1178,1182,1186,1190,1194,1206,1214,1218,1222,1226,1230,1234,1238,1242,1250,1254,1258,1262,1266,1270,1274,1278,1282,1286,1290,1294,1298,1302,1306,1310,1314,1318,1332,1336,1340,1348,1352,1356,1360,1364,1376,1380,1384,1392,1408,1412,1428) have mixed types. Specify dtype option on import or set low_memory=False.\n",
      "  df = pd.read_csv(\"ZincFinger_Classical_RBD.csv\")\n"
     ]
    }
   ],
   "source": [
    "# REPLACE WITH YOUR CSV\n",
    "df = pd.read_csv(\"ZincFinger_Classical_RBD.csv\")"
   ]
  },
  {
   "cell_type": "code",
   "execution_count": 4,
   "id": "2879bc51-8f40-4c9a-ac05-6cb418ac8121",
   "metadata": {},
   "outputs": [],
   "source": [
    "new_cols = [\"Meta_disordered_index\", \"Meta_disordered_position\", \"Meta_disordered_domains\", \"Meta_disordered_sequence\", \"Meta_folded_index\", \"Meta_folded_position\", \"Meta_folded_domains\", \"Meta_folded_sequence\", \"Meta_disordered_content_fraction\", \"Meta_disordered_content_count\", \"Meta_folded_content_fraction\", \"Meta_folded_content_count\", \"Meta_number_disordered_regions\", \"Meta_average_disordered_region_size\", \"Meta_number_folded_regions\", \"Meta_average_folded_region_size\"]"
   ]
  },
  {
   "cell_type": "code",
   "execution_count": 5,
   "id": "5b69d114-65a3-4f53-8ed4-5845849d3de4",
   "metadata": {},
   "outputs": [],
   "source": [
    "sequences = list(df[\"sequence\"])"
   ]
  },
  {
   "cell_type": "code",
   "execution_count": null,
   "id": "c880a3e8-46c5-4a8e-945a-94b38acde61b",
   "metadata": {},
   "outputs": [],
   "source": [
    "disorder_objects = meta.predict_disorder(sequences, version = \"V3\", return_domains = True, disorder_threshold = 0.5)"
   ]
  },
  {
   "cell_type": "code",
   "execution_count": null,
   "id": "70ba5bfe-e517-4db4-8c85-67507e96ec96",
   "metadata": {},
   "outputs": [],
   "source": [
    "disordered_domain_boundaries = [obj.disordered_domain_boundaries for obj in disorder_objects]\n",
    "folded_domain_boundaries = [obj.folded_domain_boundaries for obj in disorder_objects]\n",
    "disordered_domains = [obj.disordered_domains for obj in disorder_objects]\n",
    "folded_domains = [obj.folded_domains for obj in disorder_objects]"
   ]
  },
  {
   "cell_type": "code",
   "execution_count": null,
   "id": "16994f58-5d2c-46a2-a604-a1d8d97bc026",
   "metadata": {},
   "outputs": [],
   "source": [
    "def format_boundaries(boundary_list):\n",
    "    return \",\".join([f\"{start+1}..{end}\" for start, end in boundary_list])"
   ]
  },
  {
   "cell_type": "code",
   "execution_count": null,
   "id": "a5e13328-53ea-4a97-8ad6-352f49edf3d3",
   "metadata": {},
   "outputs": [],
   "source": [
    "def join_domains(domain_list):\n",
    "    return \"..\".join(domain_list)"
   ]
  },
  {
   "cell_type": "code",
   "execution_count": null,
   "id": "c5c66159-d78c-49b4-a853-2915c1b863bf",
   "metadata": {},
   "outputs": [],
   "source": [
    "disordered_domain_positions = [format_boundaries(obj) for obj in disordered_domain_boundaries]\n",
    "folded_domain_positions = [format_boundaries(obj) for obj in folded_domain_boundaries]\n",
    "disordered_sequence = [join_domains(obj) for obj in disordered_domains]\n",
    "folded_sequence = [join_domains(obj) for obj in folded_domains]"
   ]
  },
  {
   "cell_type": "code",
   "execution_count": null,
   "id": "79e6dfb5-8dba-44f4-9492-bd36ae7966ec",
   "metadata": {},
   "outputs": [],
   "source": [
    "cols = [disordered_domain_boundaries, disordered_domain_positions, disordered_domains, disordered_sequence, folded_domain_boundaries, folded_domain_positions, folded_domains, folded_sequence]"
   ]
  },
  {
   "cell_type": "code",
   "execution_count": null,
   "id": "99fe0200-a8fd-42d8-8359-b17d4484d560",
   "metadata": {},
   "outputs": [],
   "source": [
    "def get_seq_length(seq):\n",
    "    return len(seq) if pd.notna(seq) else np.nan"
   ]
  },
  {
   "cell_type": "code",
   "execution_count": null,
   "id": "ab3ce2f4-b41c-4f9c-a92c-4fc098339c0e",
   "metadata": {},
   "outputs": [],
   "source": [
    "# Sequence length\n",
    "seq_lengths = rbp[\"sequence\"].apply(get_seq_length)\n",
    "\n",
    "# Region counts\n",
    "num_disordered = [len(obj.disordered_domain_boundaries) for obj in disorder_objects]\n",
    "num_folded = [len(obj.folded_domain_boundaries) for obj in disorder_objects]\n",
    "\n",
    "# Region sizes\n",
    "avg_disordered_size = [\n",
    "    np.mean([end - start for start, end in obj.disordered_domain_boundaries]) if obj.disordered_domain_boundaries else 0\n",
    "    for obj in disorder_objects\n",
    "]\n",
    "avg_folded_size = [\n",
    "    np.mean([end - start for start, end in obj.folded_domain_boundaries]) if obj.folded_domain_boundaries else 0\n",
    "    for obj in disorder_objects\n",
    "]\n",
    "\n",
    "# Content counts\n",
    "disordered_counts = [\n",
    "    sum([end - start for start, end in obj.disordered_domain_boundaries]) for obj in disorder_objects\n",
    "]\n",
    "folded_counts = [\n",
    "    sum([end - start for start, end in obj.folded_domain_boundaries]) for obj in disorder_objects\n",
    "]\n",
    "\n",
    "# Fractions\n",
    "disordered_fractions = [count / length if length else np.nan for count, length in zip(disordered_counts, seq_lengths)]\n",
    "folded_fractions = [count / length if length else np.nan for count, length in zip(folded_counts, seq_lengths)]\n"
   ]
  },
  {
   "cell_type": "code",
   "execution_count": null,
   "id": "7b0a9423-a7ee-4216-a469-f40eba213ecb",
   "metadata": {},
   "outputs": [],
   "source": [
    "more_cols = [disordered_fractions, disordered_counts, folded_fractions, folded_counts, num_disordered, avg_disordered_size, num_folded, avg_folded_size]"
   ]
  },
  {
   "cell_type": "code",
   "execution_count": null,
   "id": "ea578b7e-9d0e-4d92-a57a-98b5e147799d",
   "metadata": {},
   "outputs": [],
   "source": [
    "cols_to_add = cols + more_cols"
   ]
  },
  {
   "cell_type": "code",
   "execution_count": null,
   "id": "b473a2ff-cf35-45e0-a559-edbcd69d1e87",
   "metadata": {},
   "outputs": [],
   "source": [
    "for name, values in zip(new_cols, cols_to_add):\n",
    "    df[name] = values"
   ]
  }
 ],
 "metadata": {
  "kernelspec": {
   "display_name": "Python [conda env:metapredict_env]",
   "language": "python",
   "name": "conda-env-metapredict_env-py"
  },
  "language_info": {
   "codemirror_mode": {
    "name": "ipython",
    "version": 3
   },
   "file_extension": ".py",
   "mimetype": "text/x-python",
   "name": "python",
   "nbconvert_exporter": "python",
   "pygments_lexer": "ipython3",
   "version": "3.11.13"
  }
 },
 "nbformat": 4,
 "nbformat_minor": 5
}
