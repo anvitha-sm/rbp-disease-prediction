{
 "cells": [
  {
   "cell_type": "code",
   "execution_count": null,
   "id": "a026aefd-d8dc-4b93-8166-fe90de70b6ea",
   "metadata": {},
   "outputs": [],
   "source": [
    "import pandas as pd\n",
    "import numpy as np\n",
    "import metapredict as meta"
   ]
  },
  {
   "cell_type": "code",
   "execution_count": null,
   "id": "58a815a0-fd37-4bad-ab9d-7c5786229140",
   "metadata": {},
   "outputs": [],
   "source": [
    "# Replace with your CSV\n",
    "df = pd.read_csv(\"CIDER_Condenseq_Metapredict.csv\")"
   ]
  },
  {
   "cell_type": "code",
   "execution_count": null,
   "id": "83696c9e-8c2c-4a29-ac57-d271ef11762a",
   "metadata": {},
   "outputs": [],
   "source": [
    "import localcider"
   ]
  },
  {
   "cell_type": "code",
   "execution_count": null,
   "id": "de6d6a1f-3b7f-4c3a-b7c3-cf2fccc3c2e6",
   "metadata": {},
   "outputs": [],
   "source": [
    "from localcider.sequenceParameters import SequenceParameters"
   ]
  },
  {
   "cell_type": "code",
   "execution_count": null,
   "id": "6eaf442b-e036-4e5a-a801-c1568c68a8e8",
   "metadata": {},
   "outputs": [],
   "source": [
    "cider_functions = [\n",
    "    \"get_FCR\",\n",
    "    \"get_NCPR\",\n",
    "    \"get_isoelectric_point\",\n",
    "    \"get_molecular_weight\",\n",
    "    \"get_countNeg\",\n",
    "    \"get_countPos\",\n",
    "    \"get_countNeut\",\n",
    "    \"get_fraction_negative\",\n",
    "    \"get_fraction_positive\",\n",
    "    \"get_fraction_expanding\",\n",
    "    \"get_amino_acid_fractions\",\n",
    "    \"get_fraction_disorder_promoting\",\n",
    "    \"get_mean_net_charge\",\n",
    "    \"get_mean_hydropathy\",\n",
    "    \"get_uversky_hydropathy\",\n",
    "    \"get_PPII_propensity\",\n",
    "]"
   ]
  },
  {
   "cell_type": "code",
   "execution_count": null,
   "id": "309465c0-65f3-4bf8-933b-7f207caed30b",
   "metadata": {},
   "outputs": [],
   "source": [
    "def clean_sequence(seq):\n",
    "    if pd.isna(seq):\n",
    "        return np.na\n",
    "    return seq.replace(\"..\", \"\")"
   ]
  },
  {
   "cell_type": "code",
   "execution_count": null,
   "id": "73e75976-8d81-4865-a9e1-ffe0818950aa",
   "metadata": {},
   "outputs": [],
   "source": [
    "clean_disordered_sequences = [\n",
    "    clean_sequence(seq) for seq in rbp[\"Meta_disordered_sequence\"] if pd.notna(seq)\n",
    "]\n",
    "\n",
    "clean_folded_sequences = [\n",
    "    clean_sequence(seq) for seq in rbp[\"Meta_folded_sequence\"] if pd.notna(seq)\n",
    "]"
   ]
  },
  {
   "cell_type": "code",
   "execution_count": null,
   "id": "6e59d475-ccee-49b5-bc0a-fd7569b19402",
   "metadata": {},
   "outputs": [],
   "source": [
    "disordered_sequence_objects = []\n",
    "for sequence in clean_disordered_sequences:\n",
    "    if sequence:\n",
    "        disordered_sequence_objects.append(SequenceParameters(sequence))\n",
    "    else:\n",
    "        disordered_sequence_objects.append(None)"
   ]
  },
  {
   "cell_type": "code",
   "execution_count": null,
   "id": "ff0631f5-b42b-412f-ba9e-ab08f787a975",
   "metadata": {},
   "outputs": [],
   "source": [
    "folded_sequence_objects = []\n",
    "for sequence in clean_folded_sequences:\n",
    "    if sequence:\n",
    "        folded_sequence_objects.append(SequenceParameters(sequence))\n",
    "    else:\n",
    "        folded_sequence_objects.append(None)"
   ]
  },
  {
   "cell_type": "code",
   "execution_count": null,
   "id": "94a6d1a7-d943-47d2-a73d-e373e572bb9a",
   "metadata": {},
   "outputs": [],
   "source": [
    "disordered_outputs = [\n",
    "    [getattr(seq, func)() if seq else np.nan for seq in disordered_sequence_objects]\n",
    "    for func in cider_functions\n",
    "]"
   ]
  },
  {
   "cell_type": "code",
   "execution_count": null,
   "id": "f9c06c2d-7f94-456d-9fee-7a1fd3ad63b9",
   "metadata": {},
   "outputs": [],
   "source": [
    "folded_outputs = [\n",
    "    [getattr(seq, func)() if seq else np.nan for seq in folded_sequence_objects]\n",
    "    for func in cider_functions\n",
    "]"
   ]
  },
  {
   "cell_type": "code",
   "execution_count": null,
   "id": "6db318b8-f559-41ff-85b2-025fc539d50c",
   "metadata": {},
   "outputs": [],
   "source": [
    "for func_name, values in zip(cider_functions, disordered_outputs):\n",
    "    rbp[func_name.replace(\"get_\", \"Meta_disordered_\")] = values"
   ]
  },
  {
   "cell_type": "code",
   "execution_count": null,
   "id": "d1289404-3a1a-42af-9e26-7e20938d9e39",
   "metadata": {},
   "outputs": [],
   "source": [
    "for func_name, values in zip(cider_functions, folded_outputs):\n",
    "    rbp[func_name.replace(\"get_\", \"Meta_folded_\")] = values"
   ]
  },
  {
   "cell_type": "code",
   "execution_count": null,
   "id": "fb40bedd-79ae-4ebc-9bf8-4f44ea3433bb",
   "metadata": {},
   "outputs": [],
   "source": [
    "# Individual amino acid fractions\n",
    "aa_list = list(\"ACDEFGHIKLMNPQRSTVWY\")\n",
    "individual_fractions = {f\"Fraction_{aa}\": (aa, \"ACDEFGHIKLMNPQRSTVWY\") for aa in aa_list}\n",
    "\n",
    "# Composite fractions\n",
    "composite_fractions = {\n",
    "    \"Fraction_ILMV\": (\"ILMV\", \"ACDEFGHIKLMNPQRSTVWY\"),\n",
    "    \"Fraction_RK\": (\"RK\", \"ACDEFGHIKLMNPQRSTVWY\"),\n",
    "    \"Fraction_DE\": (\"DE\", \"ACDEFGHIKLMNPQRSTVWY\"),\n",
    "    \"Fraction_GS\": (\"GS\", \"ACDEFGHIKLMNPQRSTVWY\"),\n",
    "    \"Fraction_FWY\": (\"FWY\", \"ACDEFGHIKLMNPQRSTVWY\"),\n",
    "    \"Fraction_R_over_RK\": (\"R\", \"RK\"),\n",
    "    \"Fraction_D_over_DE\": (\"D\", \"DE\"),\n",
    "    \"Fraction_S_over_SG\": (\"S\", \"SG\"),\n",
    "    \"Fraction_N_over_NQ\": (\"N\", \"NQ\"),\n",
    "    \"Fraction_Y_over_YF\": (\"Y\", \"YF\"),\n",
    "    \"Fraction_F_over_FW\": (\"F\", \"FW\"),\n",
    "    \"Fraction_Y_over_YW\": (\"Y\", \"YW\"),\n",
    "    \"Fraction_R_over_RQ\": (\"R\", \"RQ\"),\n",
    "    \"Fraction_K_over_KQ\": (\"K\", \"KQ\"),\n",
    "    \"Fraction_FWY_over_FWYILV\": (\"FWY\", \"FWYILV\"),\n",
    "    \"Fraction_FWY_over_FWYR\": (\"FWY\", \"FWYR\")\n",
    "}\n",
    "\n",
    "# Combine both\n",
    "fractions = {**individual_fractions, **composite_fractions}"
   ]
  },
  {
   "cell_type": "code",
   "execution_count": null,
   "id": "e9cc5362-2569-46f8-8d83-9b74114d70f0",
   "metadata": {},
   "outputs": [],
   "source": [
    "disordered_fractions = {\n",
    "    f\"Meta_Disordered_{key}\": value\n",
    "    for key, value in fractions.items()\n",
    "}"
   ]
  },
  {
   "cell_type": "code",
   "execution_count": null,
   "id": "24d396e4-cb54-4732-aec8-e519171606a6",
   "metadata": {},
   "outputs": [],
   "source": [
    "folded_fractions = {\n",
    "    f\"Meta_Folded_{key}\": value\n",
    "    for key, value in fractions.items()\n",
    "}"
   ]
  },
  {
   "cell_type": "code",
   "execution_count": null,
   "id": "f0ada593-0ddd-4907-a692-81a2c586c787",
   "metadata": {},
   "outputs": [],
   "source": [
    "def compute_fraction(seq, numerator_set, denominator_set):\n",
    "    if pd.isna(seq) or not seq:\n",
    "        return np.nan\n",
    "    seq = seq.upper()\n",
    "    num = sum(1 for aa in seq if aa in numerator_set)\n",
    "    denom = sum(1 for aa in seq if aa in denominator_set)\n",
    "    return num / denom if denom > 0 else np.nan"
   ]
  },
  {
   "cell_type": "code",
   "execution_count": null,
   "id": "3c815d42-b2b0-4e28-8521-12f388c61ede",
   "metadata": {},
   "outputs": [],
   "source": [
    "rbp[\"Meta_disordered_combined\"] = clean_disordered_sequences\n",
    "rbp[\"Meta_folded_combined\"] = clean_folded_sequences"
   ]
  },
  {
   "cell_type": "code",
   "execution_count": null,
   "id": "62de991d-79de-4016-84e9-43741d42a379",
   "metadata": {},
   "outputs": [],
   "source": [
    "for name, (num_set, denom_set) in disordered_fractions.items():\n",
    "    rbp[name] = rbp[\"Meta_disordered_combined\"].apply(lambda seq: compute_fraction(seq, num_set, denom_set))"
   ]
  },
  {
   "cell_type": "code",
   "execution_count": null,
   "id": "294caaa3-0e0a-44bc-92b9-41c884fc5c84",
   "metadata": {},
   "outputs": [],
   "source": [
    "for name, (num_set, denom_set) in folded_fractions.items():\n",
    "    rbp[name] = rbp[\"Meta_folded_combined\"].apply(lambda seq: compute_fraction(seq, num_set, denom_set))"
   ]
  }
 ],
 "metadata": {
  "kernelspec": {
   "display_name": "Python [conda env:base] *",
   "language": "python",
   "name": "conda-base-py"
  },
  "language_info": {
   "codemirror_mode": {
    "name": "ipython",
    "version": 3
   },
   "file_extension": ".py",
   "mimetype": "text/x-python",
   "name": "python",
   "nbconvert_exporter": "python",
   "pygments_lexer": "ipython3",
   "version": "3.13.5"
  }
 },
 "nbformat": 4,
 "nbformat_minor": 5
}
