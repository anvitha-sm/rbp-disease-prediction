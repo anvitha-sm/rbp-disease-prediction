{
 "cells": [
  {
   "cell_type": "code",
   "execution_count": 1,
   "id": "cd740ee0-5ec6-4b28-8196-83f68dd4752e",
   "metadata": {},
   "outputs": [],
   "source": [
    "import pandas as pd\n",
    "import numpy as np\n",
    "import ast\n",
    "import requests\n",
    "import io\n",
    "import os"
   ]
  },
  {
   "cell_type": "code",
   "execution_count": 133,
   "id": "9175aec6-2c50-4c74-8002-72c27b03eea8",
   "metadata": {},
   "outputs": [
    {
     "name": "stderr",
     "output_type": "stream",
     "text": [
      "C:\\Users\\faris\\AppData\\Local\\Temp\\ipykernel_29640\\2181719650.py:1: DtypeWarning: Columns (11,12,13,1134,1138,1146,1154,1158,1162,1166,1170,1174,1178,1182,1186,1190,1194,1206,1214,1218,1222,1226,1230,1234,1238,1242,1250,1254,1258,1262,1266,1270,1274,1278,1282,1286,1290,1294,1298,1302,1306,1310,1314,1318,1332,1336,1340,1348,1352,1356,1360,1364,1376,1380,1384,1392,1408,1412,1428) have mixed types. Specify dtype option on import or set low_memory=False.\n",
      "  df = pd.read_csv(\"ZincFinger_Classical_RBD.csv\")\n"
     ]
    }
   ],
   "source": [
    "# Replace with your CSV\n",
    "df = pd.read_csv(\"ZincFinger_Classical_RBD.csv\")"
   ]
  },
  {
   "cell_type": "code",
   "execution_count": 36,
   "id": "7bf5fb24-6c05-46c8-b090-eeb43577650e",
   "metadata": {},
   "outputs": [],
   "source": [
    "domain_list = []"
   ]
  },
  {
   "cell_type": "code",
   "execution_count": 39,
   "id": "33589893-3b8a-47f6-b6dd-433e728a09a4",
   "metadata": {},
   "outputs": [],
   "source": [
    "def find_matching(key):\n",
    "    return [col for col in df.columns if key.lower() in col.lower()]"
   ]
  },
  {
   "cell_type": "code",
   "execution_count": 40,
   "id": "3e629a30-4320-4136-9410-5a4042e2e1a0",
   "metadata": {},
   "outputs": [
    {
     "data": {
      "text/plain": [
       "['Number of xRRM',\n",
       " 'Average Size of xRRM',\n",
       " 'Total Size of xRRM',\n",
       " 'RRM_Map',\n",
       " 'Number of RRM',\n",
       " 'Average Size of RRM',\n",
       " 'Total Size of RRM',\n",
       " 'xRRM_Map']"
      ]
     },
     "execution_count": 40,
     "metadata": {},
     "output_type": "execute_result"
    }
   ],
   "source": [
    "find_matching(\"RRM\")"
   ]
  },
  {
   "cell_type": "code",
   "execution_count": 41,
   "id": "6ece5412-2a2b-467e-a657-a19c4c81a69c",
   "metadata": {},
   "outputs": [
    {
     "data": {
      "text/plain": [
       "['Number of KH',\n",
       " 'Average Size of KH',\n",
       " 'Total Size of KH',\n",
       " 'Number of KH type-2',\n",
       " 'Average Size of KH type-2',\n",
       " 'Total Size of KH type-2',\n",
       " 'KH_Map',\n",
       " 'KH type-2_Map']"
      ]
     },
     "execution_count": 41,
     "metadata": {},
     "output_type": "execute_result"
    }
   ],
   "source": [
    "find_matching(\"KH\")"
   ]
  },
  {
   "cell_type": "code",
   "execution_count": 43,
   "id": "769c7df8-da6a-4684-b3b5-bc784f7f8e5f",
   "metadata": {},
   "outputs": [
    {
     "data": {
      "text/plain": [
       "['DRBM_Map',\n",
       " 'Number of DRBM',\n",
       " 'Average Size of DRBM',\n",
       " 'Total Size of DRBM',\n",
       " 'Number of S5 DRBM',\n",
       " 'Average Size of S5 DRBM',\n",
       " 'Total Size of S5 DRBM',\n",
       " 'S5 DRBM_Map']"
      ]
     },
     "execution_count": 43,
     "metadata": {},
     "output_type": "execute_result"
    }
   ],
   "source": [
    "find_matching(\"drbm\")"
   ]
  },
  {
   "cell_type": "code",
   "execution_count": 44,
   "id": "e28b5fd1-c2d5-4d56-b575-eeadfb458e33",
   "metadata": {},
   "outputs": [
    {
     "data": {
      "text/plain": [
       "['ZincFinger_C2H2-type_atypical_Number_of',\n",
       " 'ZincFinger_C2H2-type_atypical_Average_Size_of',\n",
       " 'ZincFinger_C2H2-type_atypical_Total_Size_of',\n",
       " 'ZincFinger_C2H2-type_atypical_Map',\n",
       " 'ZincFinger_C2H2_AKAP95-type_Number_of',\n",
       " 'ZincFinger_C2H2_AKAP95-type_Average_Size_of',\n",
       " 'ZincFinger_C2H2_AKAP95-type_Total_Size_of',\n",
       " 'ZincFinger_C2H2_AKAP95-type_Map',\n",
       " 'ZincFinger_C2H2-type_Number_of',\n",
       " 'ZincFinger_C2H2-type_Average_Size_of',\n",
       " 'ZincFinger_C2H2-type_Total_Size_of',\n",
       " 'ZincFinger_C2H2-type_Map']"
      ]
     },
     "execution_count": 44,
     "metadata": {},
     "output_type": "execute_result"
    }
   ],
   "source": [
    "find_matching(\"c2h2\")"
   ]
  },
  {
   "cell_type": "code",
   "execution_count": 45,
   "id": "cbb6f93a-a771-4ef3-a38c-f5bf6597a6db",
   "metadata": {},
   "outputs": [
    {
     "data": {
      "text/plain": [
       "['ZincFinger_C3H1-type_Number_of',\n",
       " 'ZincFinger_C3H1-type_Average_Size_of',\n",
       " 'ZincFinger_C3H1-type_Total_Size_of',\n",
       " 'ZincFinger_C3H1-type_Map']"
      ]
     },
     "execution_count": 45,
     "metadata": {},
     "output_type": "execute_result"
    }
   ],
   "source": [
    "find_matching(\"c3h\")"
   ]
  },
  {
   "cell_type": "code",
   "execution_count": 59,
   "id": "4dc3b16c-cb19-4307-bf9b-ee1b55928bbf",
   "metadata": {},
   "outputs": [
    {
     "data": {
      "text/plain": [
       "['ZincFinger_C2HC_pre-PHD-type_Number_of',\n",
       " 'ZincFinger_C2HC_pre-PHD-type_Average_Size_of',\n",
       " 'ZincFinger_C2HC_pre-PHD-type_Total_Size_of',\n",
       " 'ZincFinger_C2HC_pre-PHD-type_Map',\n",
       " 'ZincFinger_C2HC_pre-PHD-type_degenerate_Number_of',\n",
       " 'ZincFinger_C2HC_pre-PHD-type_degenerate_Average_Size_of',\n",
       " 'ZincFinger_C2HC_pre-PHD-type_degenerate_Total_Size_of',\n",
       " 'ZincFinger_C2HC_pre-PHD-type_degenerate_Map',\n",
       " 'ZincFinger_C2HC_LYAR-type_Number_of',\n",
       " 'ZincFinger_C2HC_LYAR-type_Average_Size_of',\n",
       " 'ZincFinger_C2HC_LYAR-type_Total_Size_of',\n",
       " 'ZincFinger_C2HC_LYAR-type_Map']"
      ]
     },
     "execution_count": 59,
     "metadata": {},
     "output_type": "execute_result"
    }
   ],
   "source": [
    "find_matching(\"c2hc\")"
   ]
  },
  {
   "cell_type": "code",
   "execution_count": 46,
   "id": "821b46a0-f02f-42d8-b814-e7cbf134c111",
   "metadata": {},
   "outputs": [
    {
     "data": {
      "text/plain": [
       "['Bms1-type G_Map',\n",
       " 'Number of S1-like',\n",
       " 'Average Size of S1-like',\n",
       " 'Total Size of S1-like',\n",
       " 'Number of Bms1-type G',\n",
       " 'Average Size of Bms1-type G',\n",
       " 'Total Size of Bms1-type G',\n",
       " 'S1 motif_Map',\n",
       " 'S1-like_Map',\n",
       " 'Number of S1 motif',\n",
       " 'Average Size of S1 motif',\n",
       " 'Total Size of S1 motif']"
      ]
     },
     "execution_count": 46,
     "metadata": {},
     "output_type": "execute_result"
    }
   ],
   "source": [
    "find_matching(\"s1\")"
   ]
  },
  {
   "cell_type": "code",
   "execution_count": 47,
   "id": "0a74eed3-7c40-4ece-9598-2fb91d256051",
   "metadata": {},
   "outputs": [
    {
     "data": {
      "text/plain": [
       "['Number of PAZ', 'Average Size of PAZ', 'Total Size of PAZ', 'PAZ_Map']"
      ]
     },
     "execution_count": 47,
     "metadata": {},
     "output_type": "execute_result"
    }
   ],
   "source": [
    "find_matching(\"paz\")"
   ]
  },
  {
   "cell_type": "code",
   "execution_count": 48,
   "id": "895f8ba1-b2fc-4934-bb75-37489d5b7447",
   "metadata": {},
   "outputs": [
    {
     "data": {
      "text/plain": [
       "['Number of Piwi', 'Average Size of Piwi', 'Total Size of Piwi', 'Piwi_Map']"
      ]
     },
     "execution_count": 48,
     "metadata": {},
     "output_type": "execute_result"
    }
   ],
   "source": [
    "find_matching(\"piwi\")"
   ]
  },
  {
   "cell_type": "code",
   "execution_count": null,
   "id": "dbd65aca-f3f5-47d4-8fa7-53075abd938d",
   "metadata": {},
   "outputs": [],
   "source": [
    "find_matching(\"piwi\")"
   ]
  },
  {
   "cell_type": "code",
   "execution_count": 49,
   "id": "90fdb074-6f3a-426a-b454-6df281420f2a",
   "metadata": {},
   "outputs": [
    {
     "data": {
      "text/plain": [
       "['PUM-HD_Map',\n",
       " 'Number of PUM-HD',\n",
       " 'Average Size of PUM-HD',\n",
       " 'Total Size of PUM-HD']"
      ]
     },
     "execution_count": 49,
     "metadata": {},
     "output_type": "execute_result"
    }
   ],
   "source": [
    "find_matching(\"pum\")"
   ]
  },
  {
   "cell_type": "code",
   "execution_count": 50,
   "id": "7cfd7ad6-7548-4015-b461-a5e8a10a9b77",
   "metadata": {},
   "outputs": [
    {
     "data": {
      "text/plain": [
       "['Bin3-type SAM_Map',\n",
       " 'Number of SAM-dependent MTase PRMT-type',\n",
       " 'Average Size of SAM-dependent MTase PRMT-type',\n",
       " 'Total Size of SAM-dependent MTase PRMT-type',\n",
       " 'Number of Bin3-type SAM',\n",
       " 'Average Size of Bin3-type SAM',\n",
       " 'Total Size of Bin3-type SAM',\n",
       " 'SAM_Map',\n",
       " 'SAM-dependent MTase PRMT-type_Map',\n",
       " 'SAM-dependent MTase TRM10-type_Map',\n",
       " 'Number of SAM-dependent MTase TRM10-type',\n",
       " 'Average Size of SAM-dependent MTase TRM10-type',\n",
       " 'Total Size of SAM-dependent MTase TRM10-type',\n",
       " 'Number of SAM',\n",
       " 'Average Size of SAM',\n",
       " 'Total Size of SAM']"
      ]
     },
     "execution_count": 50,
     "metadata": {},
     "output_type": "execute_result"
    }
   ],
   "source": [
    "find_matching(\"sam\")"
   ]
  },
  {
   "cell_type": "code",
   "execution_count": 52,
   "id": "4563df4c-398d-4482-a75a-7bd3702fb254",
   "metadata": {},
   "outputs": [
    {
     "data": {
      "text/plain": [
       "['CMP/dCMP-type deaminase_Map',\n",
       " 'Number of CMP/dCMP-type deaminase',\n",
       " 'Average Size of CMP/dCMP-type deaminase',\n",
       " 'Total Size of CMP/dCMP-type deaminase']"
      ]
     },
     "execution_count": 52,
     "metadata": {},
     "output_type": "execute_result"
    }
   ],
   "source": [
    "find_matching(\"deaminase\")"
   ]
  },
  {
   "cell_type": "code",
   "execution_count": 54,
   "id": "492cc664-1e11-477d-9891-5846b55c5713",
   "metadata": {},
   "outputs": [
    {
     "data": {
      "text/plain": [
       "[]"
      ]
     },
     "execution_count": 54,
     "metadata": {},
     "output_type": "execute_result"
    }
   ],
   "source": [
    "find_matching(\"endonuclease\")"
   ]
  },
  {
   "cell_type": "code",
   "execution_count": 84,
   "id": "4fdf5cba-351b-4709-9dad-dbe8e7aa2420",
   "metadata": {},
   "outputs": [
    {
     "data": {
      "text/plain": [
       "[\"3'-5' exonuclease_Map\",\n",
       " 'Exonuclease_Map',\n",
       " \"Number of 3'-5' exonuclease\",\n",
       " \"Average Size of 3'-5' exonuclease\",\n",
       " \"Total Size of 3'-5' exonuclease\",\n",
       " 'Number of Exonuclease',\n",
       " 'Average Size of Exonuclease',\n",
       " 'Total Size of Exonuclease']"
      ]
     },
     "execution_count": 84,
     "metadata": {},
     "output_type": "execute_result"
    }
   ],
   "source": [
    "find_matching(\"exonuclease\")"
   ]
  },
  {
   "cell_type": "code",
   "execution_count": 56,
   "id": "2293ebc8-2c60-4423-af12-74f28a49b815",
   "metadata": {},
   "outputs": [
    {
     "data": {
      "text/plain": [
       "['Number of UvrD-like helicase ATP-binding',\n",
       " 'Average Size of UvrD-like helicase ATP-binding',\n",
       " 'Total Size of UvrD-like helicase ATP-binding',\n",
       " 'Helicase ATP-binding_Map',\n",
       " 'Helicase C-terminal_Map',\n",
       " 'Number of Helicase ATP-binding',\n",
       " 'Average Size of Helicase ATP-binding',\n",
       " 'Total Size of Helicase ATP-binding',\n",
       " 'Number of Helicase C-terminal',\n",
       " 'Average Size of Helicase C-terminal',\n",
       " 'Total Size of Helicase C-terminal',\n",
       " 'UvrD-like helicase ATP-binding_Map']"
      ]
     },
     "execution_count": 56,
     "metadata": {},
     "output_type": "execute_result"
    }
   ],
   "source": [
    "find_matching(\"helicase\")"
   ]
  },
  {
   "cell_type": "code",
   "execution_count": 74,
   "id": "6a7b3895-4ce4-4a94-adaf-19ccfd531908",
   "metadata": {},
   "outputs": [
    {
     "data": {
      "text/plain": [
       "['Number of PTB', 'Average Size of PTB', 'Total Size of PTB', 'PTB_Map']"
      ]
     },
     "execution_count": 74,
     "metadata": {},
     "output_type": "execute_result"
    }
   ],
   "source": [
    "find_matching(\"PTB\")"
   ]
  },
  {
   "cell_type": "code",
   "execution_count": 83,
   "id": "834796f6-36ce-45d4-a01c-36762570ed34",
   "metadata": {},
   "outputs": [
    {
     "data": {
      "text/plain": [
       "[\"3'-5' exonuclease_Map\",\n",
       " 'Number of N-acetyltransferase',\n",
       " 'Average Size of N-acetyltransferase',\n",
       " 'Total Size of N-acetyltransferase',\n",
       " 'A to I editase_Map',\n",
       " 'Number of Nudix hydrolase',\n",
       " 'Average Size of Nudix hydrolase',\n",
       " 'Total Size of Nudix hydrolase',\n",
       " 'AGC-kinase C-terminal_Map',\n",
       " 'Number of PPIase cyclophilin-type',\n",
       " 'Average Size of PPIase cyclophilin-type',\n",
       " 'Total Size of PPIase cyclophilin-type',\n",
       " 'Number of Trm1 methyltransferase',\n",
       " 'Average Size of Trm1 methyltransferase',\n",
       " 'Total Size of Trm1 methyltransferase',\n",
       " 'Number of Ketosynthase family',\n",
       " 'Average Size of Ketosynthase family',\n",
       " 'Total Size of Ketosynthase family',\n",
       " 'CMP/dCMP-type deaminase_Map',\n",
       " 'Number of A to I editase',\n",
       " 'Average Size of A to I editase',\n",
       " 'Total Size of A to I editase',\n",
       " 'Number of UvrD-like helicase ATP-binding',\n",
       " 'Average Size of UvrD-like helicase ATP-binding',\n",
       " 'Total Size of UvrD-like helicase ATP-binding',\n",
       " 'Exonuclease_Map',\n",
       " 'Number of AGC-kinase C-terminal',\n",
       " 'Average Size of AGC-kinase C-terminal',\n",
       " 'Total Size of AGC-kinase C-terminal',\n",
       " 'Number of Small GTPase Ran-type',\n",
       " 'Average Size of Small GTPase Ran-type',\n",
       " 'Total Size of Small GTPase Ran-type',\n",
       " \"Number of 3'-5' exonuclease\",\n",
       " \"Average Size of 3'-5' exonuclease\",\n",
       " \"Total Size of 3'-5' exonuclease\",\n",
       " 'Helicase ATP-binding_Map',\n",
       " 'Helicase C-terminal_Map',\n",
       " 'Ketosynthase family_Map',\n",
       " 'Number of SAM-dependent MTase PRMT-type',\n",
       " 'Average Size of SAM-dependent MTase PRMT-type',\n",
       " 'Total Size of SAM-dependent MTase PRMT-type',\n",
       " 'Number of Peptidase S8',\n",
       " 'Average Size of Peptidase S8',\n",
       " 'Total Size of Peptidase S8',\n",
       " 'N-acetyltransferase_Map',\n",
       " 'Number of TNase-like',\n",
       " 'Average Size of TNase-like',\n",
       " 'Total Size of TNase-like',\n",
       " 'Number of Pyruvate carboxyltransferase',\n",
       " 'Average Size of Pyruvate carboxyltransferase',\n",
       " 'Total Size of Pyruvate carboxyltransferase',\n",
       " 'Nudix hydrolase_Map',\n",
       " 'Number of RNase III',\n",
       " 'Average Size of RNase III',\n",
       " 'Total Size of RNase III',\n",
       " 'Number of CMP/dCMP-type deaminase',\n",
       " 'Average Size of CMP/dCMP-type deaminase',\n",
       " 'Total Size of CMP/dCMP-type deaminase',\n",
       " 'PPIase FKBP-type_Map',\n",
       " 'PPIase cyclophilin-type_Map',\n",
       " 'Number of PPIase FKBP-type',\n",
       " 'Average Size of PPIase FKBP-type',\n",
       " 'Total Size of PPIase FKBP-type',\n",
       " 'Peptidase S8_Map',\n",
       " 'Phosphatase tensin-type_Map',\n",
       " 'Protein kinase_Map',\n",
       " 'Pyruvate carboxyltransferase_Map',\n",
       " 'Number of Protein kinase',\n",
       " 'Average Size of Protein kinase',\n",
       " 'Total Size of Protein kinase',\n",
       " 'RNase III_Map',\n",
       " 'Number of Exonuclease',\n",
       " 'Average Size of Exonuclease',\n",
       " 'Total Size of Exonuclease',\n",
       " 'SAM-dependent MTase PRMT-type_Map',\n",
       " 'SAM-dependent MTase TRM10-type_Map',\n",
       " 'Number of Tyrosine-protein phosphatase',\n",
       " 'Average Size of Tyrosine-protein phosphatase',\n",
       " 'Total Size of Tyrosine-protein phosphatase',\n",
       " 'Number of Helicase ATP-binding',\n",
       " 'Average Size of Helicase ATP-binding',\n",
       " 'Total Size of Helicase ATP-binding',\n",
       " 'Small GTPase Ran-type_Map',\n",
       " 'TNase-like_Map',\n",
       " 'Number of SAM-dependent MTase TRM10-type',\n",
       " 'Average Size of SAM-dependent MTase TRM10-type',\n",
       " 'Total Size of SAM-dependent MTase TRM10-type',\n",
       " 'Trm1 methyltransferase_Map',\n",
       " 'Tyrosine-protein phosphatase_Map',\n",
       " 'Number of Helicase C-terminal',\n",
       " 'Average Size of Helicase C-terminal',\n",
       " 'Total Size of Helicase C-terminal',\n",
       " 'UvrD-like helicase ATP-binding_Map',\n",
       " 'Number of Phosphatase tensin-type',\n",
       " 'Average Size of Phosphatase tensin-type',\n",
       " 'Total Size of Phosphatase tensin-type',\n",
       " 'Number of IMP dehydrogenase/GMP reductase',\n",
       " 'Average Size of IMP dehydrogenase/GMP reductase',\n",
       " 'Total Size of IMP dehydrogenase/GMP reductase',\n",
       " 'IMP dehydrogenase/GMP reductase_Map']"
      ]
     },
     "execution_count": 83,
     "metadata": {},
     "output_type": "execute_result"
    }
   ],
   "source": [
    "# acetyltransferase?\n",
    "# methyltransferase?\n",
    "# nudix hydrolase??\n",
    "# editase? may include ADARs\n",
    "find_matching(\"ase\")"
   ]
  },
  {
   "cell_type": "code",
   "execution_count": 109,
   "id": "5214444f-f19b-4529-9699-b10f4133359e",
   "metadata": {},
   "outputs": [
    {
     "data": {
      "text/plain": [
       "['HTH La-type RNA-binding_Map',\n",
       " 'Number of tRNA-binding',\n",
       " 'Average Size of tRNA-binding',\n",
       " 'Total Size of tRNA-binding',\n",
       " 'Number of RNase III',\n",
       " 'Average Size of RNase III',\n",
       " 'Total Size of RNase III',\n",
       " 'Number of S4 RNA-binding',\n",
       " 'Average Size of S4 RNA-binding',\n",
       " 'Total Size of S4 RNA-binding',\n",
       " 'RNase III_Map',\n",
       " 'S4 RNA-binding_Map',\n",
       " 'Number of HTH La-type RNA-binding',\n",
       " 'Average Size of HTH La-type RNA-binding',\n",
       " 'Total Size of HTH La-type RNA-binding',\n",
       " 'tRNA-binding_Map',\n",
       " 'RNA_only_chains']"
      ]
     },
     "execution_count": 109,
     "metadata": {},
     "output_type": "execute_result"
    }
   ],
   "source": [
    "# Do these count as RNA-binding domains?\n",
    "find_matching(\"rna\")"
   ]
  },
  {
   "cell_type": "code",
   "execution_count": 108,
   "id": "f29b792c-6d93-42cc-940b-9121fd4a9913",
   "metadata": {},
   "outputs": [
    {
     "data": {
      "text/plain": [
       "['Number of TFIIS N-terminal',\n",
       " 'Average Size of TFIIS N-terminal',\n",
       " 'Total Size of TFIIS N-terminal',\n",
       " 'Number of TFIIS central',\n",
       " 'Average Size of TFIIS central',\n",
       " 'Total Size of TFIIS central',\n",
       " 'NTF2_Map',\n",
       " 'Number of NTF2',\n",
       " 'Average Size of NTF2',\n",
       " 'Total Size of NTF2',\n",
       " 'TFIIS N-terminal_Map',\n",
       " 'TFIIS central_Map',\n",
       " 'ZincFinger_TFIIS-type_Number_of',\n",
       " 'ZincFinger_TFIIS-type_Average_Size_of',\n",
       " 'ZincFinger_TFIIS-type_Total_Size_of',\n",
       " 'ZincFinger_TFIIS-type_Map']"
      ]
     },
     "execution_count": 108,
     "metadata": {},
     "output_type": "execute_result"
    }
   ],
   "source": [
    "# Transcription factors?\n",
    "find_matching(\"tf\")"
   ]
  },
  {
   "cell_type": "code",
   "execution_count": 116,
   "id": "7fd5ddd5-89be-40ec-b612-9e956c6ce209",
   "metadata": {},
   "outputs": [
    {
     "data": {
      "text/plain": [
       "['Number of Trm1 methyltransferase',\n",
       " 'Average Size of Trm1 methyltransferase',\n",
       " 'Total Size of Trm1 methyltransferase',\n",
       " 'Trm1 methyltransferase_Map']"
      ]
     },
     "execution_count": 116,
     "metadata": {},
     "output_type": "execute_result"
    }
   ],
   "source": [
    "find_matching(\"methyl\")"
   ]
  },
  {
   "cell_type": "code",
   "execution_count": 124,
   "id": "c0bbee91-794c-4234-8f51-8aa461865ecd",
   "metadata": {},
   "outputs": [],
   "source": [
    "domain_list = [\n",
    "    \"xRRM\",\n",
    "    \"RRM\",\n",
    "    \"KH\",\n",
    "    \"KH type-2\",\n",
    "    \"DRBM\",\n",
    "    \"S5 DRBM\",\n",
    "    \"ZincFinger_C2H2-type_atypical\",\n",
    "    \"ZincFinger_C2H2_AKAP95-type\",\n",
    "    \"ZincFinger_C2H2-type\",\n",
    "    \"ZincFinger_C3H1-type\",\n",
    "    \"ZincFinger_C2HC_pre-PHD-type\", # INCLUDE?\n",
    "    \"ZincFinger_C2HC_pre-PHD-type_degenerate\", # INCLUDE?\n",
    "    \"ZincFinger_C2HC_LYAR-type\", # INCLUDE?\n",
    "    \"S1 motif\",\n",
    "    \"PAZ\",\n",
    "    \"Piwi\",\n",
    "    \"PUM-HD\",\n",
    "    \"SAM\",\n",
    "    \"CMP/dCMP-type deaminase\", # CATALYTIC\n",
    "    \"UvrD-like helicase ATP-binding\", # CATALYTIC\n",
    "    \"Helicase ATP-binding\", # CATALYTIC\n",
    "    \"Helicase C-terminal\", # CATALYTIC\n",
    "    \"PTB\", # CATALYTIC, COMBINATION!\n",
    "    \"3'-5' exonuclease\", # CATALYTIC\n",
    "    \"Exonuclease\", # CATALYTIC\n",
    "    \"RNase III\" # CATALYTIC, COMBINATION!\n",
    "]"
   ]
  },
  {
   "cell_type": "code",
   "execution_count": 127,
   "id": "5ddb49ae-864e-469d-9fa6-b227a9a9b277",
   "metadata": {},
   "outputs": [
    {
     "ename": "TypeError",
     "evalue": "object of type 'float' has no len()",
     "output_type": "error",
     "traceback": [
      "\u001b[1;31m---------------------------------------------------------------------------\u001b[0m",
      "\u001b[1;31mTypeError\u001b[0m                                 Traceback (most recent call last)",
      "Cell \u001b[1;32mIn[127], line 22\u001b[0m\n\u001b[0;32m     19\u001b[0m     \u001b[38;5;28;01mreturn\u001b[39;00m residue_annotations  \u001b[38;5;66;03m# or ''.join(residue_annotations) if you want a single string\u001b[39;00m\n\u001b[0;32m     21\u001b[0m \u001b[38;5;66;03m# Apply to dataframe\u001b[39;00m\n\u001b[1;32m---> 22\u001b[0m \u001b[43mdf\u001b[49m\u001b[38;5;241;43m.\u001b[39;49m\u001b[43mapply\u001b[49m\u001b[43m(\u001b[49m\u001b[43mannotate_residues\u001b[49m\u001b[43m,\u001b[49m\u001b[43m \u001b[49m\u001b[43maxis\u001b[49m\u001b[38;5;241;43m=\u001b[39;49m\u001b[38;5;241;43m1\u001b[39;49m\u001b[43m)\u001b[49m\n",
      "File \u001b[1;32m~\\anaconda3\\envs\\pymol_env\\lib\\site-packages\\pandas\\core\\frame.py:10381\u001b[0m, in \u001b[0;36mDataFrame.apply\u001b[1;34m(self, func, axis, raw, result_type, args, by_row, engine, engine_kwargs, **kwargs)\u001b[0m\n\u001b[0;32m  10367\u001b[0m \u001b[38;5;28;01mfrom\u001b[39;00m\u001b[38;5;250m \u001b[39m\u001b[38;5;21;01mpandas\u001b[39;00m\u001b[38;5;21;01m.\u001b[39;00m\u001b[38;5;21;01mcore\u001b[39;00m\u001b[38;5;21;01m.\u001b[39;00m\u001b[38;5;21;01mapply\u001b[39;00m\u001b[38;5;250m \u001b[39m\u001b[38;5;28;01mimport\u001b[39;00m frame_apply\n\u001b[0;32m  10369\u001b[0m op \u001b[38;5;241m=\u001b[39m frame_apply(\n\u001b[0;32m  10370\u001b[0m     \u001b[38;5;28mself\u001b[39m,\n\u001b[0;32m  10371\u001b[0m     func\u001b[38;5;241m=\u001b[39mfunc,\n\u001b[1;32m   (...)\u001b[0m\n\u001b[0;32m  10379\u001b[0m     kwargs\u001b[38;5;241m=\u001b[39mkwargs,\n\u001b[0;32m  10380\u001b[0m )\n\u001b[1;32m> 10381\u001b[0m \u001b[38;5;28;01mreturn\u001b[39;00m \u001b[43mop\u001b[49m\u001b[38;5;241;43m.\u001b[39;49m\u001b[43mapply\u001b[49m\u001b[43m(\u001b[49m\u001b[43m)\u001b[49m\u001b[38;5;241m.\u001b[39m__finalize__(\u001b[38;5;28mself\u001b[39m, method\u001b[38;5;241m=\u001b[39m\u001b[38;5;124m\"\u001b[39m\u001b[38;5;124mapply\u001b[39m\u001b[38;5;124m\"\u001b[39m)\n",
      "File \u001b[1;32m~\\anaconda3\\envs\\pymol_env\\lib\\site-packages\\pandas\\core\\apply.py:916\u001b[0m, in \u001b[0;36mFrameApply.apply\u001b[1;34m(self)\u001b[0m\n\u001b[0;32m    913\u001b[0m \u001b[38;5;28;01melif\u001b[39;00m \u001b[38;5;28mself\u001b[39m\u001b[38;5;241m.\u001b[39mraw:\n\u001b[0;32m    914\u001b[0m     \u001b[38;5;28;01mreturn\u001b[39;00m \u001b[38;5;28mself\u001b[39m\u001b[38;5;241m.\u001b[39mapply_raw(engine\u001b[38;5;241m=\u001b[39m\u001b[38;5;28mself\u001b[39m\u001b[38;5;241m.\u001b[39mengine, engine_kwargs\u001b[38;5;241m=\u001b[39m\u001b[38;5;28mself\u001b[39m\u001b[38;5;241m.\u001b[39mengine_kwargs)\n\u001b[1;32m--> 916\u001b[0m \u001b[38;5;28;01mreturn\u001b[39;00m \u001b[38;5;28;43mself\u001b[39;49m\u001b[38;5;241;43m.\u001b[39;49m\u001b[43mapply_standard\u001b[49m\u001b[43m(\u001b[49m\u001b[43m)\u001b[49m\n",
      "File \u001b[1;32m~\\anaconda3\\envs\\pymol_env\\lib\\site-packages\\pandas\\core\\apply.py:1063\u001b[0m, in \u001b[0;36mFrameApply.apply_standard\u001b[1;34m(self)\u001b[0m\n\u001b[0;32m   1061\u001b[0m \u001b[38;5;28;01mdef\u001b[39;00m\u001b[38;5;250m \u001b[39m\u001b[38;5;21mapply_standard\u001b[39m(\u001b[38;5;28mself\u001b[39m):\n\u001b[0;32m   1062\u001b[0m     \u001b[38;5;28;01mif\u001b[39;00m \u001b[38;5;28mself\u001b[39m\u001b[38;5;241m.\u001b[39mengine \u001b[38;5;241m==\u001b[39m \u001b[38;5;124m\"\u001b[39m\u001b[38;5;124mpython\u001b[39m\u001b[38;5;124m\"\u001b[39m:\n\u001b[1;32m-> 1063\u001b[0m         results, res_index \u001b[38;5;241m=\u001b[39m \u001b[38;5;28;43mself\u001b[39;49m\u001b[38;5;241;43m.\u001b[39;49m\u001b[43mapply_series_generator\u001b[49m\u001b[43m(\u001b[49m\u001b[43m)\u001b[49m\n\u001b[0;32m   1064\u001b[0m     \u001b[38;5;28;01melse\u001b[39;00m:\n\u001b[0;32m   1065\u001b[0m         results, res_index \u001b[38;5;241m=\u001b[39m \u001b[38;5;28mself\u001b[39m\u001b[38;5;241m.\u001b[39mapply_series_numba()\n",
      "File \u001b[1;32m~\\anaconda3\\envs\\pymol_env\\lib\\site-packages\\pandas\\core\\apply.py:1081\u001b[0m, in \u001b[0;36mFrameApply.apply_series_generator\u001b[1;34m(self)\u001b[0m\n\u001b[0;32m   1078\u001b[0m \u001b[38;5;28;01mwith\u001b[39;00m option_context(\u001b[38;5;124m\"\u001b[39m\u001b[38;5;124mmode.chained_assignment\u001b[39m\u001b[38;5;124m\"\u001b[39m, \u001b[38;5;28;01mNone\u001b[39;00m):\n\u001b[0;32m   1079\u001b[0m     \u001b[38;5;28;01mfor\u001b[39;00m i, v \u001b[38;5;129;01min\u001b[39;00m \u001b[38;5;28menumerate\u001b[39m(series_gen):\n\u001b[0;32m   1080\u001b[0m         \u001b[38;5;66;03m# ignore SettingWithCopy here in case the user mutates\u001b[39;00m\n\u001b[1;32m-> 1081\u001b[0m         results[i] \u001b[38;5;241m=\u001b[39m \u001b[38;5;28mself\u001b[39m\u001b[38;5;241m.\u001b[39mfunc(v, \u001b[38;5;241m*\u001b[39m\u001b[38;5;28mself\u001b[39m\u001b[38;5;241m.\u001b[39margs, \u001b[38;5;241m*\u001b[39m\u001b[38;5;241m*\u001b[39m\u001b[38;5;28mself\u001b[39m\u001b[38;5;241m.\u001b[39mkwargs)\n\u001b[0;32m   1082\u001b[0m         \u001b[38;5;28;01mif\u001b[39;00m \u001b[38;5;28misinstance\u001b[39m(results[i], ABCSeries):\n\u001b[0;32m   1083\u001b[0m             \u001b[38;5;66;03m# If we have a view on v, we need to make a copy because\u001b[39;00m\n\u001b[0;32m   1084\u001b[0m             \u001b[38;5;66;03m#  series_generator will swap out the underlying data\u001b[39;00m\n\u001b[0;32m   1085\u001b[0m             results[i] \u001b[38;5;241m=\u001b[39m results[i]\u001b[38;5;241m.\u001b[39mcopy(deep\u001b[38;5;241m=\u001b[39m\u001b[38;5;28;01mFalse\u001b[39;00m)\n",
      "Cell \u001b[1;32mIn[127], line 8\u001b[0m, in \u001b[0;36mannotate_residues\u001b[1;34m(row)\u001b[0m\n\u001b[0;32m      6\u001b[0m \u001b[38;5;28;01mdef\u001b[39;00m\u001b[38;5;250m \u001b[39m\u001b[38;5;21mannotate_residues\u001b[39m(row):\n\u001b[0;32m      7\u001b[0m     \u001b[38;5;66;03m# Determine the length of the map strings (assuming all are same length)\u001b[39;00m\n\u001b[1;32m----> 8\u001b[0m     map_length \u001b[38;5;241m=\u001b[39m \u001b[38;5;28;43mlen\u001b[39;49m\u001b[43m(\u001b[49m\u001b[43mrow\u001b[49m\u001b[43m[\u001b[49m\u001b[38;5;124;43mf\u001b[39;49m\u001b[38;5;124;43m\"\u001b[39;49m\u001b[38;5;132;43;01m{\u001b[39;49;00m\u001b[43mdomain_list\u001b[49m\u001b[43m[\u001b[49m\u001b[38;5;241;43m0\u001b[39;49m\u001b[43m]\u001b[49m\u001b[38;5;132;43;01m}\u001b[39;49;00m\u001b[38;5;124;43m_Map\u001b[39;49m\u001b[38;5;124;43m\"\u001b[39;49m\u001b[43m]\u001b[49m\u001b[43m)\u001b[49m\n\u001b[0;32m      9\u001b[0m     residue_annotations \u001b[38;5;241m=\u001b[39m [\u001b[38;5;124m'\u001b[39m\u001b[38;5;124m'\u001b[39m \u001b[38;5;28;01mfor\u001b[39;00m _ \u001b[38;5;129;01min\u001b[39;00m \u001b[38;5;28mrange\u001b[39m(map_length)]\n\u001b[0;32m     11\u001b[0m     \u001b[38;5;28;01mfor\u001b[39;00m domain \u001b[38;5;129;01min\u001b[39;00m domain_list:\n",
      "\u001b[1;31mTypeError\u001b[0m: object of type 'float' has no len()"
     ]
    }
   ],
   "source": [
    "import string\n",
    "\n",
    "# Map domains to letters\n",
    "domain_to_letter = {domain: letter for domain, letter in zip(domain_list, string.ascii_lowercase)}\n",
    "\n",
    "def annotate_residues(row):\n",
    "    # Determine the length of the map strings (assuming all are same length)\n",
    "    map_length = len(row[f\"{domain_list[0]}_Map\"])\n",
    "    residue_annotations = ['' for _ in range(map_length)]\n",
    "\n",
    "    for domain in domain_list:\n",
    "        col = f\"{domain}_Map\"\n",
    "        if col not in row or not isinstance(row[col], str):\n",
    "            continue\n",
    "        for i, char in enumerate(row[col]):\n",
    "            if char == '1':\n",
    "                residue_annotations[i] += domain_to_letter[domain]\n",
    "    \n",
    "    return residue_annotations  # or ''.join(residue_annotations) if you want a single string\n",
    "\n",
    "# Apply to dataframe\n",
    "df.apply(annotate_residues, axis=1)\n"
   ]
  }
 ],
 "metadata": {
  "kernelspec": {
   "display_name": "Python [conda env:base] *",
   "language": "python",
   "name": "conda-base-py"
  },
  "language_info": {
   "codemirror_mode": {
    "name": "ipython",
    "version": 3
   },
   "file_extension": ".py",
   "mimetype": "text/x-python",
   "name": "python",
   "nbconvert_exporter": "python",
   "pygments_lexer": "ipython3",
   "version": "3.13.5"
  }
 },
 "nbformat": 4,
 "nbformat_minor": 5
}
