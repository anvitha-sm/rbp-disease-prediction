{
 "cells": [
  {
   "cell_type": "code",
   "execution_count": null,
   "id": "38f142f1-201a-4d40-9858-b08416458add",
   "metadata": {},
   "outputs": [],
   "source": [
    "import pandas as pd\n",
    "import numpy as np\n",
    "import localcider\n",
    "from localcider.sequenceParameters import SequenceParameters"
   ]
  },
  {
   "cell_type": "code",
   "execution_count": null,
   "id": "27273eda-bd33-4800-bfcc-59cd504dd450",
   "metadata": {},
   "outputs": [],
   "source": [
    "# REPLACE WITH YOUR CSV\n",
    "df = pd.read_csv(\"ZincFinger_Classical_RBD.csv\")"
   ]
  },
  {
   "cell_type": "code",
   "execution_count": null,
   "id": "dd47a14d-ded3-44c4-a28b-15ab2e3bf6e7",
   "metadata": {},
   "outputs": [],
   "source": [
    "# Should be 0 NaN sequences\n",
    "nan_count = sum(pd.isna(seq) for seq in df[\"sequence\"])\n",
    "print(\"Number of NaN sequences:\", nan_count)"
   ]
  },
  {
   "cell_type": "code",
   "execution_count": null,
   "id": "0eeaf6b4-3d18-4bf1-acbf-752841233185",
   "metadata": {},
   "outputs": [],
   "source": [
    "# Should be 0 U amino acids; if there are, turn it into C\n",
    "sum([\"U\" in df[\"sequence\"].iloc[index] for index in range(df.shape[0])])"
   ]
  },
  {
   "cell_type": "code",
   "execution_count": null,
   "id": "102747c5-0429-40fb-8f09-2a1460b0cb86",
   "metadata": {},
   "outputs": [],
   "source": [
    "# Generate sequence objects for each sequence\n",
    "sequences = list(df[\"sequence\"])\n",
    "sequence_objects = []\n",
    "for sequence in sequences:\n",
    "    sequence_objects.append(SequenceParameters(sequence))"
   ]
  },
  {
   "cell_type": "code",
   "execution_count": null,
   "id": "76eca201-876c-4397-b429-dca1ca2f1498",
   "metadata": {},
   "outputs": [],
   "source": [
    "# List of functions that are to be applied\n",
    "cider_functions = [\n",
    "    \"get_FCR\",\n",
    "    \"get_NCPR\",\n",
    "    \"get_isoelectric_point\",\n",
    "    \"get_molecular_weight\",\n",
    "    \"get_countNeg\",\n",
    "    \"get_countPos\",\n",
    "    \"get_countNeut\",\n",
    "    \"get_fraction_negative\",\n",
    "    \"get_fraction_positive\",\n",
    "    \"get_fraction_expanding\",\n",
    "    \"get_amino_acid_fractions\",\n",
    "    \"get_fraction_disorder_promoting\",\n",
    "    \"get_mean_net_charge\",\n",
    "    \"get_mean_hydropathy\",\n",
    "    \"get_uversky_hydropathy\",\n",
    "    \"get_PPII_propensity\",\n",
    "]"
   ]
  },
  {
   "cell_type": "code",
   "execution_count": null,
   "id": "a7460838-dccf-4979-939e-49f4df2961cb",
   "metadata": {},
   "outputs": [],
   "source": [
    "# Apply the functions\n",
    "outputs = [\n",
    "    [getattr(seq, func)() for seq in sequence_objects]\n",
    "    for func in cider_functions\n",
    "]"
   ]
  },
  {
   "cell_type": "code",
   "execution_count": null,
   "id": "a4b442b7-f436-4c71-a7bf-aeebbdaf293c",
   "metadata": {},
   "outputs": [],
   "source": [
    "# Add the outputs to the dataframe\n",
    "for func_name, values in zip(cider_functions, outputs):\n",
    "    df[func_name.replace(\"get_\", \"\")] = values"
   ]
  },
  {
   "cell_type": "code",
   "execution_count": null,
   "id": "c754c5f2-8f96-4f03-bddd-abfa88cb2c49",
   "metadata": {},
   "outputs": [],
   "source": [
    "# Specify amino acid fractions to be calculated\n",
    "\n",
    "aa_list = list(\"ACDEFGHIKLMNPQRSTVWY\")\n",
    "individual_fractions = {f\"Fraction_{aa}\": (aa, \"ACDEFGHIKLMNPQRSTVWY\") for aa in aa_list}\n",
    "\n",
    "composite_fractions = {\n",
    "    \"Fraction_ILMV\": (\"ILMV\", \"ACDEFGHIKLMNPQRSTVWY\"),\n",
    "    \"Fraction_RK\": (\"RK\", \"ACDEFGHIKLMNPQRSTVWY\"),\n",
    "    \"Fraction_DE\": (\"DE\", \"ACDEFGHIKLMNPQRSTVWY\"),\n",
    "    \"Fraction_GS\": (\"GS\", \"ACDEFGHIKLMNPQRSTVWY\"),\n",
    "    \"Fraction_FWY\": (\"FWY\", \"ACDEFGHIKLMNPQRSTVWY\"),\n",
    "    \"Fraction_R_over_RK\": (\"R\", \"RK\"),\n",
    "    \"Fraction_D_over_DE\": (\"D\", \"DE\"),\n",
    "    \"Fraction_S_over_SG\": (\"S\", \"SG\"),\n",
    "    \"Fraction_N_over_NQ\": (\"N\", \"NQ\"),\n",
    "    \"Fraction_Y_over_YF\": (\"Y\", \"YF\"),\n",
    "    \"Fraction_F_over_FW\": (\"F\", \"FW\"),\n",
    "    \"Fraction_Y_over_YW\": (\"Y\", \"YW\"),\n",
    "    \"Fraction_R_over_RQ\": (\"R\", \"RQ\"),\n",
    "    \"Fraction_K_over_KQ\": (\"K\", \"KQ\"),\n",
    "    \"Fraction_FWY_over_FWYILV\": (\"FWY\", \"FWYILV\"),\n",
    "    \"Fraction_FWY_over_FWYR\": (\"FWY\", \"FWYR\")\n",
    "}\n",
    "\n",
    "fractions = {**individual_fractions, **composite_fractions}"
   ]
  },
  {
   "cell_type": "code",
   "execution_count": null,
   "id": "04a2c645-792b-442d-97a5-a21970eb2529",
   "metadata": {},
   "outputs": [],
   "source": [
    "# Function to compute the fraction\n",
    "def compute_fraction(seq, numerator_set, denominator_set):\n",
    "    if pd.isna(seq) or not seq:\n",
    "        return np.nan\n",
    "    seq = seq.upper()\n",
    "    num = sum(1 for aa in seq if aa in numerator_set)\n",
    "    denom = sum(1 for aa in seq if aa in denominator_set)\n",
    "    return num / denom if denom > 0 else np.nan"
   ]
  },
  {
   "cell_type": "code",
   "execution_count": null,
   "id": "60cbfd51-4fb8-4c31-a945-2d1db96f700c",
   "metadata": {},
   "outputs": [],
   "source": [
    "# Compute the fractions and add into dataframe\n",
    "for name, (num_set, denom_set) in fractions.items():\n",
    "    rbp[name] = rbp[\"sequence\"].apply(lambda seq: compute_fraction(seq, num_set, denom_set))"
   ]
  }
 ],
 "metadata": {
  "kernelspec": {
   "display_name": "Python [conda env:base] *",
   "language": "python",
   "name": "conda-base-py"
  },
  "language_info": {
   "codemirror_mode": {
    "name": "ipython",
    "version": 3
   },
   "file_extension": ".py",
   "mimetype": "text/x-python",
   "name": "python",
   "nbconvert_exporter": "python",
   "pygments_lexer": "ipython3",
   "version": "3.13.5"
  }
 },
 "nbformat": 4,
 "nbformat_minor": 5
}
